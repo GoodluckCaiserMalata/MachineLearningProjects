{
 "cells": [
  {
   "cell_type": "code",
   "execution_count": 1,
   "metadata": {},
   "outputs": [],
   "source": [
    "import pandas as pd \n",
    "import numpy as np \n",
    "\n",
    "from sklearn.datasets import load_boston\n",
    "from sklearn.linear_model import LinearRegression\n",
    "from sklearn.metrics import mean_squared_error\n",
    "\n"
   ]
  },
  {
   "cell_type": "code",
   "execution_count": 2,
   "metadata": {},
   "outputs": [],
   "source": [
    "boston_dataset = load_boston()\n",
    "data = pd.DataFrame(data=boston_dataset.data, columns=boston_dataset.feature_names)\n",
    "\n",
    "features = data.drop(['INDUS', 'AGE'], axis=1)\n",
    "log_prices = np.log(boston_dataset.target)\n",
    "target = pd.DataFrame(log_prices, columns=['PRICE'])\n",
    "\n"
   ]
  },
  {
   "cell_type": "code",
   "execution_count": 3,
   "metadata": {},
   "outputs": [],
   "source": [
    "CRIME_IDX = 0\n",
    "ZN_IDX = 1\n",
    "CHAS_IDX = 2\n",
    "RM_IDX = 4\n",
    "PT_RATIO = 8\n",
    "\n",
    "property_stats = np.ndarray(shape= (1, 11))\n",
    "property_stats[0][CRIME_IDX] = features['CRIM'].mean()\n",
    "property_stats[0][ZN_IDX] = features['ZN'].mean()\n",
    "property_stats[0][CHAS_IDX] = features['CHAS'].mean()\n",
    "property_stats = features.mean().values.reshape(1,11)\n"
   ]
  },
  {
   "cell_type": "code",
   "execution_count": 4,
   "metadata": {},
   "outputs": [
    {
     "data": {
      "text/plain": [
       "array([[3.61352356e+00, 1.13636364e+01, 6.91699605e-02, 5.54695059e-01,\n",
       "        6.28463439e+00, 3.79504269e+00, 9.54940711e+00, 4.08237154e+02,\n",
       "        1.84555336e+01, 3.56674032e+02, 1.26530632e+01]])"
      ]
     },
     "execution_count": 4,
     "metadata": {},
     "output_type": "execute_result"
    }
   ],
   "source": [
    "features.mean().values.reshape(1,11)"
   ]
  },
  {
   "cell_type": "code",
   "execution_count": 5,
   "metadata": {},
   "outputs": [],
   "source": [
    "regr = LinearRegression().fit(features,target)\n",
    "fitted_vals = regr.predict(features)\n",
    "\n",
    "MSE = mean_squared_error(target, fitted_vals)\n",
    "RSME = np.sqrt(MSE)\n"
   ]
  },
  {
   "cell_type": "code",
   "execution_count": 6,
   "metadata": {},
   "outputs": [],
   "source": [
    "def get_log_price(nr_rooms, \n",
    "                  students_per_class,\n",
    "                 next_to_river=False, \n",
    "                 high_confidence=True):\n",
    "    \n",
    "    # Configure property\n",
    "    property_stats[0][RM_IDX] = nr_rooms\n",
    "    property_stats[0][PT_RATIO] = students_per_class\n",
    "    \n",
    "    # make a prediction \n",
    "    log_estimate = regr.predict(property_stats)[0][0]\n",
    "    \n",
    "    if next_to_river:\n",
    "        property_stats[0][CHAS_IDX] = 1\n",
    "    else:\n",
    "        property_stats[0][CHAS_IDX] = 0\n",
    "        \n",
    "    # calc range\n",
    "    if high_confidence:\n",
    "        lower_bound = log_estimate - 2*RSME\n",
    "        upper_bound = log_estimate + 2*RSME\n",
    "        interval = 95\n",
    "    else: \n",
    "        lower_bound = log_estimate - RSME\n",
    "        upper_bound = log_estimate + RSME\n",
    "        interval = 68\n",
    "        \n",
    "    \n",
    "    return log_estimate, upper_bound, lower_bound, interval"
   ]
  },
  {
   "cell_type": "code",
   "execution_count": 7,
   "metadata": {},
   "outputs": [
    {
     "data": {
      "text/plain": [
       "(3.9124068278430126, 4.287431098237273, 3.537382557448752, 95)"
      ]
     },
     "execution_count": 7,
     "metadata": {},
     "output_type": "execute_result"
    }
   ],
   "source": [
    "get_log_price(10, 4)"
   ]
  },
  {
   "cell_type": "code",
   "execution_count": 41,
   "metadata": {},
   "outputs": [
    {
     "name": "stdout",
     "output_type": "stream",
     "text": [
      "The estimate dollar price: 827000.0\n",
      "with a confidence of 68: the range is as below\n",
      "685000.0, to 997000.0\n"
     ]
    }
   ],
   "source": [
    "np.median(boston_dataset.target)\n",
    "zillow_median_price = 583.3\n",
    "scale_factor = zillow_median_price / np.median(boston_dataset.target)\n",
    "\n",
    "log_est, upper, lower, conf = get_log_price(9, \n",
    "                                           students_per_class=15,\n",
    "                                           next_to_river=False, \n",
    "                                           high_confidence=False)\n",
    "\n",
    "\n",
    "\n",
    "dollar_estimate = np.e**log_est*1000*scale_factor\n",
    "dollar_hi = np.e**upper*1000*scale_factor\n",
    "dollar_lo = np.e**lower*1000*scale_factor\n",
    "\n",
    "# round the estimate to the next thousands\n",
    "\n",
    "rounded_dollar_value = round(dollar_estimate, -3)\n",
    "rounded_upper_value = round(dollar_hi, -3)\n",
    "rounded_lower_value = round(dollar_lo, -3)\n",
    "\n",
    "# rounded_value\n",
    "# rounded_lower_value\n",
    "# rounded_upper_value\n",
    "\n",
    "print('The estimate dollar price:', rounded_dollar_value)\n",
    "print(f'with a confidence of {conf}: the range is as below')\n",
    "print(f'{rounded_lower_value}, to {rounded_upper_value}')\n",
    "\n"
   ]
  },
  {
   "cell_type": "code",
   "execution_count": 64,
   "metadata": {},
   "outputs": [],
   "source": [
    "def get_dollar_estimate(rm, ptratio, chas=False, large_range = False):\n",
    "    \"\"\"\n",
    "    Estimate price for a property in Boston\n",
    "    \n",
    "    Keywords and Arguments:\n",
    "    rm -- number of rooms in the property\n",
    "    ptratio -- student/ Teacher ration\n",
    "    chas -- True is the property is close to chas river, unless False \n",
    "    large_range = True for 95% prediction interval, False for a 68 prediction interval\n",
    "\n",
    "\n",
    "    \"\"\"\n",
    "    \n",
    "    log_est, upper, lower, conf = get_log_price(rm, \n",
    "                                           students_per_class=ptratio,\n",
    "                                           next_to_river=chas, \n",
    "                                           high_confidence=large_range)\n",
    "    if rm <1 or ptratio <1:\n",
    "        print('Thats Unrealstic try again!')\n",
    "        return\n",
    "\n",
    "\n",
    "\n",
    "    dollar_estimate = np.e**log_est*1000*scale_factor\n",
    "    dollar_hi = np.e**upper*1000*scale_factor\n",
    "    dollar_lo = np.e**lower*1000*scale_factor\n",
    "\n",
    "    # round the estimate to the next thousands\n",
    "\n",
    "    rounded_dollar_value = round(dollar_estimate, -3)\n",
    "    rounded_upper_value = round(dollar_hi, -3)\n",
    "    rounded_lower_value = round(dollar_lo, -3)\n",
    "\n",
    "    # rounded_value\n",
    "    # rounded_lower_value\n",
    "    # rounded_upper_value\n",
    "\n",
    "    print('The estimate dollar price:', rounded_dollar_value)\n",
    "    print(f'with a confidence of {conf}: the range is as below')\n",
    "    print(f'{rounded_lower_value}, to {rounded_upper_value}')\n",
    "\n",
    "    \n",
    "    \n",
    "   \n",
    "\n",
    "    "
   ]
  },
  {
   "cell_type": "code",
   "execution_count": 61,
   "metadata": {},
   "outputs": [
    {
     "name": "stdout",
     "output_type": "stream",
     "text": [
      "Thats Unrealstic try again!\n"
     ]
    }
   ],
   "source": [
    " get_dollar_estimate(rm=1110, ptratio=0, chas=True)"
   ]
  },
  {
   "cell_type": "code",
   "execution_count": 65,
   "metadata": {},
   "outputs": [
    {
     "name": "stdout",
     "output_type": "stream",
     "text": [
      "The estimate dollar price: 833000.0\n",
      "with a confidence of 68: the range is as below\n",
      "690000.0, to 1005000.0\n"
     ]
    },
    {
     "data": {
      "text/plain": [
       "(3.15236254102975, 3.5273868114240106, 2.7773382706354894, 95)"
      ]
     },
     "execution_count": 65,
     "metadata": {},
     "output_type": "execute_result"
    }
   ],
   "source": [
    "import boston_valueation as val\n",
    "\n",
    "val.get_log_price(5, 12, )"
   ]
  }
 ],
 "metadata": {
  "kernelspec": {
   "display_name": "Python 3",
   "language": "python",
   "name": "python3"
  },
  "language_info": {
   "codemirror_mode": {
    "name": "ipython",
    "version": 3
   },
   "file_extension": ".py",
   "mimetype": "text/x-python",
   "name": "python",
   "nbconvert_exporter": "python",
   "pygments_lexer": "ipython3",
   "version": "3.8.5"
  }
 },
 "nbformat": 4,
 "nbformat_minor": 4
}
